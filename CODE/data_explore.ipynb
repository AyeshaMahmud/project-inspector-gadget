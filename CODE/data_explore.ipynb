{
 "cells": [
  {
   "cell_type": "markdown",
   "metadata": {},
   "source": [
    "## Exploratory Data Analysis"
   ]
  },
  {
   "cell_type": "markdown",
   "metadata": {},
   "source": [
    "###import"
   ]
  },
  {
   "cell_type": "code",
   "execution_count": 11,
   "metadata": {
    "collapsed": true
   },
   "outputs": [],
   "source": [
    "import pandas as pd\n",
    "import numpy as np\n",
    "import re\n",
    "import matplotlib.pyplot as plt ## import\n",
    "%matplotlib inline"
   ]
  },
  {
   "cell_type": "markdown",
   "metadata": {},
   "source": [
    "###basic data reading from last time"
   ]
  },
  {
   "cell_type": "code",
   "execution_count": 7,
   "metadata": {
    "collapsed": false
   },
   "outputs": [
    {
     "data": {
      "text/plain": [
       "id                                int64\n",
       "violation_last_modified_date     object\n",
       "violation_date                   object\n",
       "violation_code                   object\n",
       "violation_status                 object\n",
       "violation_status_date            object\n",
       "violation_description            object\n",
       "violation_location               object\n",
       "violation_inspector_comments     object\n",
       "violation_ordinance              object\n",
       "inspector_id                     object\n",
       "inspection_number                 int64\n",
       "inspection_status                object\n",
       "inspection_waived                object\n",
       "inspection_category              object\n",
       "department_bureau                object\n",
       "address                          object\n",
       "property_group                    int64\n",
       "ssa                              object\n",
       "latitude                        float64\n",
       "longitude                       float64\n",
       "location                         object\n",
       "dtype: object"
      ]
     },
     "execution_count": 7,
     "metadata": {},
     "output_type": "execute_result"
    }
   ],
   "source": [
    "#df.head(5)\n",
    "df = pd.read_csv(\"/Users/Robin/Documents/dssg/project-inspector-gadget/DATA/Building_Violations_sample_50000.csv\")\n",
    "\n",
    "def spaces_to_snake(column_name): # cleaning\n",
    "    '''\n",
    "    converts a string that has spaces into snake_case\n",
    "    '''\n",
    "    \n",
    "    s = re.sub(r'\\s+','_', column_name)\n",
    "    return s.lower()\n",
    "\n",
    "df.columns = [spaces_to_snake(col) for col in df.columns]\n",
    "df.dtypes"
   ]
  },
  {
   "cell_type": "code",
   "execution_count": 8,
   "metadata": {
    "collapsed": true
   },
   "outputs": [],
   "source": [
    "df.violation_date = pd.to_datetime(df.violation_date)\n",
    "df.violation_status_date = pd.to_datetime(df.violation_status_date)\n",
    "df.violation_last_modified_date = pd.to_datetime(df.violation_last_modified_date)"
   ]
  },
  {
   "cell_type": "markdown",
   "metadata": {},
   "source": [
    "###EDA"
   ]
  },
  {
   "cell_type": "code",
   "execution_count": 9,
   "metadata": {
    "collapsed": false
   },
   "outputs": [
    {
     "data": {
      "text/html": [
       "<div style=\"max-height:1000px;max-width:1500px;overflow:auto;\">\n",
       "<table border=\"1\" class=\"dataframe\">\n",
       "  <thead>\n",
       "    <tr style=\"text-align: right;\">\n",
       "      <th></th>\n",
       "      <th>id</th>\n",
       "      <th>inspection_number</th>\n",
       "      <th>property_group</th>\n",
       "      <th>latitude</th>\n",
       "      <th>longitude</th>\n",
       "    </tr>\n",
       "  </thead>\n",
       "  <tbody>\n",
       "    <tr>\n",
       "      <th>count</th>\n",
       "      <td>   50000.000000</td>\n",
       "      <td>    50000.000000</td>\n",
       "      <td>  50000.000000</td>\n",
       "      <td> 49952.000000</td>\n",
       "      <td> 49952.000000</td>\n",
       "    </tr>\n",
       "    <tr>\n",
       "      <th>mean</th>\n",
       "      <td> 3300031.329640</td>\n",
       "      <td>  6195288.986320</td>\n",
       "      <td> 197729.741420</td>\n",
       "      <td>    41.845539</td>\n",
       "      <td>   -87.673442</td>\n",
       "    </tr>\n",
       "    <tr>\n",
       "      <th>std</th>\n",
       "      <td> 1088123.083684</td>\n",
       "      <td>  4296079.998463</td>\n",
       "      <td> 183132.260836</td>\n",
       "      <td>     0.087437</td>\n",
       "      <td>     0.057008</td>\n",
       "    </tr>\n",
       "    <tr>\n",
       "      <th>min</th>\n",
       "      <td>  742158.000000</td>\n",
       "      <td>   375113.000000</td>\n",
       "      <td>   1001.000000</td>\n",
       "      <td>    41.644712</td>\n",
       "      <td>   -87.914436</td>\n",
       "    </tr>\n",
       "    <tr>\n",
       "      <th>25%</th>\n",
       "      <td> 2400057.500000</td>\n",
       "      <td>  2021217.500000</td>\n",
       "      <td>  20600.750000</td>\n",
       "      <td>    41.771440</td>\n",
       "      <td>   -87.714271</td>\n",
       "    </tr>\n",
       "    <tr>\n",
       "      <th>50%</th>\n",
       "      <td> 3421152.000000</td>\n",
       "      <td>  2813561.000000</td>\n",
       "      <td> 142605.000000</td>\n",
       "      <td>    41.854001</td>\n",
       "      <td>   -87.670709</td>\n",
       "    </tr>\n",
       "    <tr>\n",
       "      <th>75%</th>\n",
       "      <td> 4223617.750000</td>\n",
       "      <td> 10630848.750000</td>\n",
       "      <td> 363929.250000</td>\n",
       "      <td>    41.912843</td>\n",
       "      <td>   -87.634551</td>\n",
       "    </tr>\n",
       "    <tr>\n",
       "      <th>max</th>\n",
       "      <td> 5064815.000000</td>\n",
       "      <td> 11597625.000000</td>\n",
       "      <td> 663759.000000</td>\n",
       "      <td>    42.022645</td>\n",
       "      <td>   -87.525898</td>\n",
       "    </tr>\n",
       "  </tbody>\n",
       "</table>\n",
       "</div>"
      ],
      "text/plain": [
       "                   id  inspection_number  property_group      latitude  \\\n",
       "count    50000.000000       50000.000000    50000.000000  49952.000000   \n",
       "mean   3300031.329640     6195288.986320   197729.741420     41.845539   \n",
       "std    1088123.083684     4296079.998463   183132.260836      0.087437   \n",
       "min     742158.000000      375113.000000     1001.000000     41.644712   \n",
       "25%    2400057.500000     2021217.500000    20600.750000     41.771440   \n",
       "50%    3421152.000000     2813561.000000   142605.000000     41.854001   \n",
       "75%    4223617.750000    10630848.750000   363929.250000     41.912843   \n",
       "max    5064815.000000    11597625.000000   663759.000000     42.022645   \n",
       "\n",
       "          longitude  \n",
       "count  49952.000000  \n",
       "mean     -87.673442  \n",
       "std        0.057008  \n",
       "min      -87.914436  \n",
       "25%      -87.714271  \n",
       "50%      -87.670709  \n",
       "75%      -87.634551  \n",
       "max      -87.525898  "
      ]
     },
     "execution_count": 9,
     "metadata": {},
     "output_type": "execute_result"
    }
   ],
   "source": [
    "df.describe()"
   ]
  },
  {
   "cell_type": "code",
   "execution_count": 13,
   "metadata": {
    "collapsed": false
   },
   "outputs": [
    {
     "data": {
      "text/plain": [
       "FAILED    38371\n",
       "PASSED     6426\n",
       "CLOSED     5199\n",
       "HOLD          4\n",
       "dtype: int64"
      ]
     },
     "execution_count": 13,
     "metadata": {},
     "output_type": "execute_result"
    }
   ],
   "source": [
    "pd.value_counts(df.inspection_status)"
   ]
  },
  {
   "cell_type": "code",
   "execution_count": 14,
   "metadata": {
    "collapsed": false
   },
   "outputs": [
    {
     "data": {
      "text/plain": [
       "False    44705\n",
       "True      5295\n",
       "dtype: int64"
      ]
     },
     "execution_count": 14,
     "metadata": {},
     "output_type": "execute_result"
    }
   ],
   "source": [
    "pd.value_counts(df.violation_inspector_comments.isnull())"
   ]
  },
  {
   "cell_type": "code",
   "execution_count": 16,
   "metadata": {
    "collapsed": true
   },
   "outputs": [],
   "source": [
    "df.violation_inspector_comments = df.violation_inspector_comments.fillna('No Comment')"
   ]
  },
  {
   "cell_type": "code",
   "execution_count": 17,
   "metadata": {
    "collapsed": false
   },
   "outputs": [
    {
     "data": {
      "text/plain": [
       "False    50000\n",
       "dtype: int64"
      ]
     },
     "execution_count": 17,
     "metadata": {},
     "output_type": "execute_result"
    }
   ],
   "source": [
    "pd.value_counts(df.violation_inspector_comments.isnull())"
   ]
  },
  {
   "cell_type": "markdown",
   "metadata": {},
   "source": [
    "### select/subset "
   ]
  },
  {
   "cell_type": "code",
   "execution_count": 18,
   "metadata": {
    "collapsed": false
   },
   "outputs": [
    {
     "data": {
      "text/html": [
       "<div style=\"max-height:1000px;max-width:1500px;overflow:auto;\">\n",
       "<table border=\"1\" class=\"dataframe\">\n",
       "  <thead>\n",
       "    <tr style=\"text-align: right;\">\n",
       "      <th></th>\n",
       "      <th>id</th>\n",
       "      <th>violation_last_modified_date</th>\n",
       "      <th>violation_date</th>\n",
       "      <th>violation_code</th>\n",
       "      <th>violation_status</th>\n",
       "      <th>violation_status_date</th>\n",
       "      <th>violation_description</th>\n",
       "      <th>violation_location</th>\n",
       "      <th>violation_inspector_comments</th>\n",
       "      <th>violation_ordinance</th>\n",
       "      <th>...</th>\n",
       "      <th>inspection_status</th>\n",
       "      <th>inspection_waived</th>\n",
       "      <th>inspection_category</th>\n",
       "      <th>department_bureau</th>\n",
       "      <th>address</th>\n",
       "      <th>property_group</th>\n",
       "      <th>ssa</th>\n",
       "      <th>latitude</th>\n",
       "      <th>longitude</th>\n",
       "      <th>location</th>\n",
       "    </tr>\n",
       "  </thead>\n",
       "  <tbody>\n",
       "    <tr>\n",
       "      <th>13</th>\n",
       "      <td> 5063459</td>\n",
       "      <td>2015-05-20</td>\n",
       "      <td>2015-05-20</td>\n",
       "      <td> CN193019</td>\n",
       "      <td> OPEN</td>\n",
       "      <td>NaT</td>\n",
       "      <td> REPAIR/WRECK DANGER RESID PREM</td>\n",
       "      <td> NaN</td>\n",
       "      <td> No Comment</td>\n",
       "      <td> Repair or wreck dangerous and vacant residenti...</td>\n",
       "      <td>...</td>\n",
       "      <td> CLOSED</td>\n",
       "      <td> N</td>\n",
       "      <td> COMPLAINT</td>\n",
       "      <td> DEMOLITION</td>\n",
       "      <td>    3051 S BROAD ST</td>\n",
       "      <td> 285348</td>\n",
       "      <td> NaN</td>\n",
       "      <td> 41.838454</td>\n",
       "      <td>-87.660979</td>\n",
       "      <td>   (41.83845438362799,-87.6609787384341)</td>\n",
       "    </tr>\n",
       "    <tr>\n",
       "      <th>15</th>\n",
       "      <td> 5063885</td>\n",
       "      <td>2015-05-21</td>\n",
       "      <td>2015-05-20</td>\n",
       "      <td>   BR1001</td>\n",
       "      <td> OPEN</td>\n",
       "      <td>NaT</td>\n",
       "      <td>   OWNER OR LICENSED CONTRACTOR</td>\n",
       "      <td> NaN</td>\n",
       "      <td> No Comment</td>\n",
       "      <td> The code violations listed below must be corre...</td>\n",
       "      <td>...</td>\n",
       "      <td> CLOSED</td>\n",
       "      <td> N</td>\n",
       "      <td>  PERIODIC</td>\n",
       "      <td>     BOILER</td>\n",
       "      <td>   6448 S TRIPP AVE</td>\n",
       "      <td> 387870</td>\n",
       "      <td> NaN</td>\n",
       "      <td> 41.775328</td>\n",
       "      <td>-87.728922</td>\n",
       "      <td> (41.775328312329904,-87.72892174006991)</td>\n",
       "    </tr>\n",
       "    <tr>\n",
       "      <th>16</th>\n",
       "      <td> 5063912</td>\n",
       "      <td>2015-05-21</td>\n",
       "      <td>2015-05-20</td>\n",
       "      <td> PL151137</td>\n",
       "      <td> OPEN</td>\n",
       "      <td>NaT</td>\n",
       "      <td>                           OPEN</td>\n",
       "      <td> NaN</td>\n",
       "      <td> No Comment</td>\n",
       "      <td>                                               NaN</td>\n",
       "      <td>...</td>\n",
       "      <td> FAILED</td>\n",
       "      <td> N</td>\n",
       "      <td>    PERMIT</td>\n",
       "      <td>   PLUMBING</td>\n",
       "      <td>   3835 W CERMAK RD</td>\n",
       "      <td> 280823</td>\n",
       "      <td> NaN</td>\n",
       "      <td> 41.851485</td>\n",
       "      <td>-87.721159</td>\n",
       "      <td>  (41.85148492680666,-87.72115941535648)</td>\n",
       "    </tr>\n",
       "    <tr>\n",
       "      <th>18</th>\n",
       "      <td> 5063320</td>\n",
       "      <td>2015-05-20</td>\n",
       "      <td>2015-05-20</td>\n",
       "      <td> CN193019</td>\n",
       "      <td> OPEN</td>\n",
       "      <td>NaT</td>\n",
       "      <td> REPAIR/WRECK DANGER RESID PREM</td>\n",
       "      <td> NaN</td>\n",
       "      <td> No Comment</td>\n",
       "      <td> Repair or wreck dangerous and vacant residenti...</td>\n",
       "      <td>...</td>\n",
       "      <td> CLOSED</td>\n",
       "      <td> N</td>\n",
       "      <td> COMPLAINT</td>\n",
       "      <td> DEMOLITION</td>\n",
       "      <td>  11025 S ESMOND ST</td>\n",
       "      <td> 516079</td>\n",
       "      <td> NaN</td>\n",
       "      <td> 41.693018</td>\n",
       "      <td>-87.667286</td>\n",
       "      <td>  (41.69301757344688,-87.66728567428113)</td>\n",
       "    </tr>\n",
       "    <tr>\n",
       "      <th>20</th>\n",
       "      <td> 5064410</td>\n",
       "      <td>2015-05-20</td>\n",
       "      <td>2015-05-20</td>\n",
       "      <td> CN193039</td>\n",
       "      <td> OPEN</td>\n",
       "      <td>NaT</td>\n",
       "      <td>  POST OWNER NAME OF VACNT BLDG</td>\n",
       "      <td> NaN</td>\n",
       "      <td> No Comment</td>\n",
       "      <td> Post conspicuously name, address, and telephon...</td>\n",
       "      <td>...</td>\n",
       "      <td> CLOSED</td>\n",
       "      <td> N</td>\n",
       "      <td> COMPLAINT</td>\n",
       "      <td> DEMOLITION</td>\n",
       "      <td> 6928 S KIMBARK AVE</td>\n",
       "      <td> 393870</td>\n",
       "      <td> NaN</td>\n",
       "      <td> 41.769012</td>\n",
       "      <td>-87.594164</td>\n",
       "      <td>  (41.76901189738516,-87.59416364991507)</td>\n",
       "    </tr>\n",
       "  </tbody>\n",
       "</table>\n",
       "<p>5 rows × 22 columns</p>\n",
       "</div>"
      ],
      "text/plain": [
       "         id violation_last_modified_date violation_date violation_code  \\\n",
       "13  5063459                   2015-05-20     2015-05-20       CN193019   \n",
       "15  5063885                   2015-05-21     2015-05-20         BR1001   \n",
       "16  5063912                   2015-05-21     2015-05-20       PL151137   \n",
       "18  5063320                   2015-05-20     2015-05-20       CN193019   \n",
       "20  5064410                   2015-05-20     2015-05-20       CN193039   \n",
       "\n",
       "   violation_status violation_status_date           violation_description  \\\n",
       "13             OPEN                   NaT  REPAIR/WRECK DANGER RESID PREM   \n",
       "15             OPEN                   NaT    OWNER OR LICENSED CONTRACTOR   \n",
       "16             OPEN                   NaT                            OPEN   \n",
       "18             OPEN                   NaT  REPAIR/WRECK DANGER RESID PREM   \n",
       "20             OPEN                   NaT   POST OWNER NAME OF VACNT BLDG   \n",
       "\n",
       "   violation_location violation_inspector_comments  \\\n",
       "13                NaN                   No Comment   \n",
       "15                NaN                   No Comment   \n",
       "16                NaN                   No Comment   \n",
       "18                NaN                   No Comment   \n",
       "20                NaN                   No Comment   \n",
       "\n",
       "                                  violation_ordinance  \\\n",
       "13  Repair or wreck dangerous and vacant residenti...   \n",
       "15  The code violations listed below must be corre...   \n",
       "16                                                NaN   \n",
       "18  Repair or wreck dangerous and vacant residenti...   \n",
       "20  Post conspicuously name, address, and telephon...   \n",
       "\n",
       "                     ...                    inspection_status  \\\n",
       "13                   ...                               CLOSED   \n",
       "15                   ...                               CLOSED   \n",
       "16                   ...                               FAILED   \n",
       "18                   ...                               CLOSED   \n",
       "20                   ...                               CLOSED   \n",
       "\n",
       "    inspection_waived inspection_category department_bureau  \\\n",
       "13                  N           COMPLAINT        DEMOLITION   \n",
       "15                  N            PERIODIC            BOILER   \n",
       "16                  N              PERMIT          PLUMBING   \n",
       "18                  N           COMPLAINT        DEMOLITION   \n",
       "20                  N           COMPLAINT        DEMOLITION   \n",
       "\n",
       "               address property_group  ssa   latitude  longitude  \\\n",
       "13     3051 S BROAD ST         285348  NaN  41.838454 -87.660979   \n",
       "15    6448 S TRIPP AVE         387870  NaN  41.775328 -87.728922   \n",
       "16    3835 W CERMAK RD         280823  NaN  41.851485 -87.721159   \n",
       "18   11025 S ESMOND ST         516079  NaN  41.693018 -87.667286   \n",
       "20  6928 S KIMBARK AVE         393870  NaN  41.769012 -87.594164   \n",
       "\n",
       "                                   location  \n",
       "13    (41.83845438362799,-87.6609787384341)  \n",
       "15  (41.775328312329904,-87.72892174006991)  \n",
       "16   (41.85148492680666,-87.72115941535648)  \n",
       "18   (41.69301757344688,-87.66728567428113)  \n",
       "20   (41.76901189738516,-87.59416364991507)  \n",
       "\n",
       "[5 rows x 22 columns]"
      ]
     },
     "execution_count": 18,
     "metadata": {},
     "output_type": "execute_result"
    }
   ],
   "source": [
    "df[df.violation_inspector_comments=='No Comment'].head()"
   ]
  },
  {
   "cell_type": "markdown",
   "metadata": {},
   "source": [
    "### groupby"
   ]
  },
  {
   "cell_type": "code",
   "execution_count": 19,
   "metadata": {
    "collapsed": false
   },
   "outputs": [
    {
     "data": {
      "text/html": [
       "<div style=\"max-height:1000px;max-width:1500px;overflow:auto;\">\n",
       "<table border=\"1\" class=\"dataframe\">\n",
       "  <thead>\n",
       "    <tr style=\"text-align: right;\">\n",
       "      <th></th>\n",
       "      <th>id</th>\n",
       "      <th>inspection_number</th>\n",
       "      <th>property_group</th>\n",
       "      <th>latitude</th>\n",
       "      <th>longitude</th>\n",
       "    </tr>\n",
       "    <tr>\n",
       "      <th>department_bureau</th>\n",
       "      <th></th>\n",
       "      <th></th>\n",
       "      <th></th>\n",
       "      <th></th>\n",
       "      <th></th>\n",
       "    </tr>\n",
       "  </thead>\n",
       "  <tbody>\n",
       "    <tr>\n",
       "      <th>BOILER</th>\n",
       "      <td> 3187754</td>\n",
       "      <td>  6534207</td>\n",
       "      <td> 250911</td>\n",
       "      <td> 41.841682</td>\n",
       "      <td>-87.670488</td>\n",
       "    </tr>\n",
       "    <tr>\n",
       "      <th>CONSERVATION</th>\n",
       "      <td> 3182004</td>\n",
       "      <td>  5599306</td>\n",
       "      <td> 182792</td>\n",
       "      <td> 41.846195</td>\n",
       "      <td>-87.673469</td>\n",
       "    </tr>\n",
       "    <tr>\n",
       "      <th>CONSTRUCTION EQUIPMENT</th>\n",
       "      <td> 3843828</td>\n",
       "      <td>  9226801</td>\n",
       "      <td> 296070</td>\n",
       "      <td> 41.928653</td>\n",
       "      <td>-87.684458</td>\n",
       "    </tr>\n",
       "    <tr>\n",
       "      <th>DEMOLITION</th>\n",
       "      <td> 4230535</td>\n",
       "      <td> 10161867</td>\n",
       "      <td> 303974</td>\n",
       "      <td> 41.807409</td>\n",
       "      <td>-87.669775</td>\n",
       "    </tr>\n",
       "    <tr>\n",
       "      <th>ELECTRICAL</th>\n",
       "      <td> 3148057</td>\n",
       "      <td>  6082962</td>\n",
       "      <td> 226475</td>\n",
       "      <td> 41.839267</td>\n",
       "      <td>-87.670183</td>\n",
       "    </tr>\n",
       "    <tr>\n",
       "      <th>ELEVATOR</th>\n",
       "      <td> 4030558</td>\n",
       "      <td>  8923590</td>\n",
       "      <td>  99430</td>\n",
       "      <td> 41.900869</td>\n",
       "      <td>-87.659214</td>\n",
       "    </tr>\n",
       "    <tr>\n",
       "      <th>IRON</th>\n",
       "      <td> 3440557</td>\n",
       "      <td>  8065067</td>\n",
       "      <td>  87547</td>\n",
       "      <td> 41.906648</td>\n",
       "      <td>-87.671767</td>\n",
       "    </tr>\n",
       "    <tr>\n",
       "      <th>NEW CONSTRUCTION</th>\n",
       "      <td> 2984252</td>\n",
       "      <td>  5171424</td>\n",
       "      <td> 229395</td>\n",
       "      <td> 41.863878</td>\n",
       "      <td>-87.683687</td>\n",
       "    </tr>\n",
       "    <tr>\n",
       "      <th>PLUMBING</th>\n",
       "      <td> 3162547</td>\n",
       "      <td>  5747402</td>\n",
       "      <td> 249322</td>\n",
       "      <td> 41.817108</td>\n",
       "      <td>-87.663690</td>\n",
       "    </tr>\n",
       "    <tr>\n",
       "      <th>REFRIGERATION</th>\n",
       "      <td> 3187633</td>\n",
       "      <td>  5082480</td>\n",
       "      <td> 200453</td>\n",
       "      <td> 41.874878</td>\n",
       "      <td>-87.679022</td>\n",
       "    </tr>\n",
       "    <tr>\n",
       "      <th>SIGNS</th>\n",
       "      <td> 3270825</td>\n",
       "      <td>  5902844</td>\n",
       "      <td> 211517</td>\n",
       "      <td> 41.874992</td>\n",
       "      <td>-87.688456</td>\n",
       "    </tr>\n",
       "    <tr>\n",
       "      <th>SPECIAL INSPECTION PROGRAM</th>\n",
       "      <td> 3456048</td>\n",
       "      <td>  7541672</td>\n",
       "      <td> 185044</td>\n",
       "      <td> 41.864683</td>\n",
       "      <td>-87.669368</td>\n",
       "    </tr>\n",
       "    <tr>\n",
       "      <th>SPECIAL TASK FORCE</th>\n",
       "      <td> 3409343</td>\n",
       "      <td>  6906617</td>\n",
       "      <td> 238518</td>\n",
       "      <td> 41.829780</td>\n",
       "      <td>-87.679063</td>\n",
       "    </tr>\n",
       "    <tr>\n",
       "      <th>VENTILATION</th>\n",
       "      <td> 3478907</td>\n",
       "      <td>  7282778</td>\n",
       "      <td> 165530</td>\n",
       "      <td> 41.889416</td>\n",
       "      <td>-87.684892</td>\n",
       "    </tr>\n",
       "    <tr>\n",
       "      <th>WATER</th>\n",
       "      <td> 3444794</td>\n",
       "      <td>  5467028</td>\n",
       "      <td> 223212</td>\n",
       "      <td> 41.866511</td>\n",
       "      <td>-87.665067</td>\n",
       "    </tr>\n",
       "  </tbody>\n",
       "</table>\n",
       "</div>"
      ],
      "text/plain": [
       "                                 id  inspection_number  property_group  \\\n",
       "department_bureau                                                        \n",
       "BOILER                      3187754            6534207          250911   \n",
       "CONSERVATION                3182004            5599306          182792   \n",
       "CONSTRUCTION EQUIPMENT      3843828            9226801          296070   \n",
       "DEMOLITION                  4230535           10161867          303974   \n",
       "ELECTRICAL                  3148057            6082962          226475   \n",
       "ELEVATOR                    4030558            8923590           99430   \n",
       "IRON                        3440557            8065067           87547   \n",
       "NEW CONSTRUCTION            2984252            5171424          229395   \n",
       "PLUMBING                    3162547            5747402          249322   \n",
       "REFRIGERATION               3187633            5082480          200453   \n",
       "SIGNS                       3270825            5902844          211517   \n",
       "SPECIAL INSPECTION PROGRAM  3456048            7541672          185044   \n",
       "SPECIAL TASK FORCE          3409343            6906617          238518   \n",
       "VENTILATION                 3478907            7282778          165530   \n",
       "WATER                       3444794            5467028          223212   \n",
       "\n",
       "                             latitude  longitude  \n",
       "department_bureau                                 \n",
       "BOILER                      41.841682 -87.670488  \n",
       "CONSERVATION                41.846195 -87.673469  \n",
       "CONSTRUCTION EQUIPMENT      41.928653 -87.684458  \n",
       "DEMOLITION                  41.807409 -87.669775  \n",
       "ELECTRICAL                  41.839267 -87.670183  \n",
       "ELEVATOR                    41.900869 -87.659214  \n",
       "IRON                        41.906648 -87.671767  \n",
       "NEW CONSTRUCTION            41.863878 -87.683687  \n",
       "PLUMBING                    41.817108 -87.663690  \n",
       "REFRIGERATION               41.874878 -87.679022  \n",
       "SIGNS                       41.874992 -87.688456  \n",
       "SPECIAL INSPECTION PROGRAM  41.864683 -87.669368  \n",
       "SPECIAL TASK FORCE          41.829780 -87.679063  \n",
       "VENTILATION                 41.889416 -87.684892  \n",
       "WATER                       41.866511 -87.665067  "
      ]
     },
     "execution_count": 19,
     "metadata": {},
     "output_type": "execute_result"
    }
   ],
   "source": [
    "df.groupby(\"department_bureau\").mean()"
   ]
  },
  {
   "cell_type": "code",
   "execution_count": 24,
   "metadata": {
    "collapsed": false
   },
   "outputs": [
    {
     "data": {
      "text/plain": [
       "id                                       int64\n",
       "violation_last_modified_date    datetime64[ns]\n",
       "violation_date                  datetime64[ns]\n",
       "violation_code                          object\n",
       "violation_status                        object\n",
       "violation_status_date           datetime64[ns]\n",
       "violation_description                   object\n",
       "violation_location                      object\n",
       "violation_inspector_comments            object\n",
       "violation_ordinance                     object\n",
       "inspector_id                            object\n",
       "inspection_number                        int64\n",
       "inspection_status                       object\n",
       "inspection_waived                       object\n",
       "inspection_category                     object\n",
       "department_bureau                       object\n",
       "address                                 object\n",
       "property_group                           int64\n",
       "ssa                                     object\n",
       "latitude                               float64\n",
       "longitude                              float64\n",
       "location                                object\n",
       "dtype: object"
      ]
     },
     "execution_count": 24,
     "metadata": {},
     "output_type": "execute_result"
    }
   ],
   "source": [
    "df.dtypes"
   ]
  },
  {
   "cell_type": "code",
   "execution_count": 25,
   "metadata": {
    "collapsed": false
   },
   "outputs": [
    {
     "data": {
      "text/plain": [
       "0    OPEN\n",
       "1    OPEN\n",
       "2    OPEN\n",
       "3    OPEN\n",
       "4    OPEN\n",
       "Name: violation_status, dtype: object"
      ]
     },
     "execution_count": 25,
     "metadata": {},
     "output_type": "execute_result"
    }
   ],
   "source": [
    "df.violation_status.head(5)"
   ]
  },
  {
   "cell_type": "code",
   "execution_count": 26,
   "metadata": {
    "collapsed": false
   },
   "outputs": [
    {
     "data": {
      "text/plain": [
       "0    Failed to maintain lintel in good repair and f...\n",
       "1    Failed to fill openings around exposed pipes o...\n",
       "2    Failed to maintain windows in sound condition ...\n",
       "3    Post name, address, and telephone of owner, ow...\n",
       "4    Replace broken, missing or defective window pa...\n",
       "Name: violation_ordinance, dtype: object"
      ]
     },
     "execution_count": 26,
     "metadata": {},
     "output_type": "execute_result"
    }
   ],
   "source": [
    "df.violation_ordinance.head(5)"
   ]
  },
  {
   "cell_type": "code",
   "execution_count": null,
   "metadata": {
    "collapsed": true
   },
   "outputs": [],
   "source": []
  }
 ],
 "metadata": {
  "kernelspec": {
   "display_name": "Python 2",
   "language": "python",
   "name": "python2"
  },
  "language_info": {
   "codemirror_mode": {
    "name": "ipython",
    "version": 2
   },
   "file_extension": ".py",
   "mimetype": "text/x-python",
   "name": "python",
   "nbconvert_exporter": "python",
   "pygments_lexer": "ipython2",
   "version": "2.7.9"
  }
 },
 "nbformat": 4,
 "nbformat_minor": 0
}
