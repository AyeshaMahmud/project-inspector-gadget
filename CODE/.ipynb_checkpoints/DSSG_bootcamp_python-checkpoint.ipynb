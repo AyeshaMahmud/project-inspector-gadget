{
 "metadata": {
  "name": "",
  "signature": "sha256:222ae64592d1e3e5c49590d23325df1ff0efbec44d53023bba02f3c3f68b1d28"
 },
 "nbformat": 3,
 "nbformat_minor": 0,
 "worksheets": [
  {
   "cells": [
    {
     "cell_type": "markdown",
     "metadata": {},
     "source": [
      "##Get started with pandas"
     ]
    },
    {
     "cell_type": "code",
     "collapsed": false,
     "input": [
      "import pandas as pd\n",
      "import numpy as np"
     ],
     "language": "python",
     "metadata": {},
     "outputs": [],
     "prompt_number": 1
    },
    {
     "cell_type": "code",
     "collapsed": false,
     "input": [
      "pd.read_csv?"
     ],
     "language": "python",
     "metadata": {},
     "outputs": [],
     "prompt_number": 2
    },
    {
     "cell_type": "code",
     "collapsed": false,
     "input": [
      "df = pd.read_csv(\"/Users/mahmud/Documents/DSSG-Bootcamp/project-inspector-gadget/DATA/Building_Violations_sample_50000.csv\")"
     ],
     "language": "python",
     "metadata": {},
     "outputs": [
      {
       "output_type": "stream",
       "stream": "stderr",
       "text": [
        "/Users/mahmud/anaconda/lib/python2.7/site-packages/pandas/io/parsers.py:1159: DtypeWarning: Columns (19) have mixed types. Specify dtype option on import or set low_memory=False.\n",
        "  data = self._reader.read(nrows)\n"
       ]
      }
     ],
     "prompt_number": 3
    },
    {
     "cell_type": "code",
     "collapsed": false,
     "input": [
      "df.head(3)\n",
      "df.tail(3)"
     ],
     "language": "python",
     "metadata": {},
     "outputs": [
      {
       "html": [
        "<div style=\"max-height:1000px;max-width:1500px;overflow:auto;\">\n",
        "<table border=\"1\" class=\"dataframe\">\n",
        "  <thead>\n",
        "    <tr style=\"text-align: right;\">\n",
        "      <th></th>\n",
        "      <th>Unnamed: 0</th>\n",
        "      <th>ID</th>\n",
        "      <th>VIOLATION LAST MODIFIED DATE</th>\n",
        "      <th>VIOLATION DATE</th>\n",
        "      <th>VIOLATION CODE</th>\n",
        "      <th>VIOLATION STATUS</th>\n",
        "      <th>VIOLATION STATUS DATE</th>\n",
        "      <th>VIOLATION DESCRIPTION</th>\n",
        "      <th>VIOLATION LOCATION</th>\n",
        "      <th>VIOLATION INSPECTOR COMMENTS</th>\n",
        "      <th>...</th>\n",
        "      <th>INSPECTION STATUS</th>\n",
        "      <th>INSPECTION WAIVED</th>\n",
        "      <th>INSPECTION CATEGORY</th>\n",
        "      <th>DEPARTMENT BUREAU</th>\n",
        "      <th>ADDRESS</th>\n",
        "      <th>PROPERTY GROUP</th>\n",
        "      <th>SSA</th>\n",
        "      <th>LATITUDE</th>\n",
        "      <th>LONGITUDE</th>\n",
        "      <th>LOCATION</th>\n",
        "    </tr>\n",
        "  </thead>\n",
        "  <tbody>\n",
        "    <tr>\n",
        "      <th>49997</th>\n",
        "      <td> 49997</td>\n",
        "      <td> 1430847</td>\n",
        "      <td> 10/14/2008</td>\n",
        "      <td> 01/01/2006</td>\n",
        "      <td> CN031013</td>\n",
        "      <td> COMPLIED</td>\n",
        "      <td> 07/10/2008</td>\n",
        "      <td> FIRE EXTNGSHR REQ, RESDNTL</td>\n",
        "      <td> NaN</td>\n",
        "      <td>           ALL ELEVATION MISSING FIRE EXTINGUISHER</td>\n",
        "      <td>...</td>\n",
        "      <td> FAILED</td>\n",
        "      <td> N</td>\n",
        "      <td> PERIODIC</td>\n",
        "      <td> CONSERVATION</td>\n",
        "      <td>    6501 S LOWE AVE</td>\n",
        "      <td> 19693</td>\n",
        "      <td> NaN</td>\n",
        "      <td> 41.776074</td>\n",
        "      <td>-87.640625</td>\n",
        "      <td>  (41.7760739361563,-87.64062455203374)</td>\n",
        "    </tr>\n",
        "    <tr>\n",
        "      <th>49998</th>\n",
        "      <td> 49998</td>\n",
        "      <td> 1734149</td>\n",
        "      <td> 09/16/2008</td>\n",
        "      <td> 01/01/2006</td>\n",
        "      <td> CN135016</td>\n",
        "      <td> COMPLIED</td>\n",
        "      <td> 09/05/2008</td>\n",
        "      <td>               MICE/RODENTS</td>\n",
        "      <td> NaN</td>\n",
        "      <td>                                  MICE ON PREMISES</td>\n",
        "      <td>...</td>\n",
        "      <td> FAILED</td>\n",
        "      <td> N</td>\n",
        "      <td> PERIODIC</td>\n",
        "      <td> CONSERVATION</td>\n",
        "      <td> 4836 S INDIANA AVE</td>\n",
        "      <td> 18261</td>\n",
        "      <td> NaN</td>\n",
        "      <td> 41.806381</td>\n",
        "      <td>-87.621283</td>\n",
        "      <td> (41.80638088214982,-87.62128295874425)</td>\n",
        "    </tr>\n",
        "    <tr>\n",
        "      <th>49999</th>\n",
        "      <td> 49999</td>\n",
        "      <td> 1834762</td>\n",
        "      <td> 01/12/2007</td>\n",
        "      <td> 01/01/2006</td>\n",
        "      <td> CN190019</td>\n",
        "      <td> COMPLIED</td>\n",
        "      <td> 01/11/2007</td>\n",
        "      <td> ARRANGE PREMISE INSPECTION</td>\n",
        "      <td> NaN</td>\n",
        "      <td> NO ENTRY TO INTERIOR TO VERIFY OCCUPANCY AND D...</td>\n",
        "      <td>...</td>\n",
        "      <td> FAILED</td>\n",
        "      <td> N</td>\n",
        "      <td> PERIODIC</td>\n",
        "      <td> CONSERVATION</td>\n",
        "      <td>  200 N KOSTNER AVE</td>\n",
        "      <td>  1531</td>\n",
        "      <td> NaN</td>\n",
        "      <td> 41.883310</td>\n",
        "      <td>-87.735709</td>\n",
        "      <td> (41.88330951242491,-87.73570901056128)</td>\n",
        "    </tr>\n",
        "  </tbody>\n",
        "</table>\n",
        "<p>3 rows \u00d7 23 columns</p>\n",
        "</div>"
       ],
       "metadata": {},
       "output_type": "pyout",
       "prompt_number": 4,
       "text": [
        "       Unnamed: 0       ID VIOLATION LAST MODIFIED DATE VIOLATION DATE  \\\n",
        "49997       49997  1430847                   10/14/2008     01/01/2006   \n",
        "49998       49998  1734149                   09/16/2008     01/01/2006   \n",
        "49999       49999  1834762                   01/12/2007     01/01/2006   \n",
        "\n",
        "      VIOLATION CODE VIOLATION STATUS VIOLATION STATUS DATE  \\\n",
        "49997       CN031013         COMPLIED            07/10/2008   \n",
        "49998       CN135016         COMPLIED            09/05/2008   \n",
        "49999       CN190019         COMPLIED            01/11/2007   \n",
        "\n",
        "            VIOLATION DESCRIPTION VIOLATION LOCATION  \\\n",
        "49997  FIRE EXTNGSHR REQ, RESDNTL                NaN   \n",
        "49998                MICE/RODENTS                NaN   \n",
        "49999  ARRANGE PREMISE INSPECTION                NaN   \n",
        "\n",
        "                            VIOLATION INSPECTOR COMMENTS  \\\n",
        "49997            ALL ELEVATION MISSING FIRE EXTINGUISHER   \n",
        "49998                                   MICE ON PREMISES   \n",
        "49999  NO ENTRY TO INTERIOR TO VERIFY OCCUPANCY AND D...   \n",
        "\n",
        "                        ...                   INSPECTION STATUS  \\\n",
        "49997                   ...                              FAILED   \n",
        "49998                   ...                              FAILED   \n",
        "49999                   ...                              FAILED   \n",
        "\n",
        "      INSPECTION WAIVED  INSPECTION CATEGORY DEPARTMENT BUREAU  \\\n",
        "49997                 N             PERIODIC      CONSERVATION   \n",
        "49998                 N             PERIODIC      CONSERVATION   \n",
        "49999                 N             PERIODIC      CONSERVATION   \n",
        "\n",
        "                  ADDRESS PROPERTY GROUP  SSA   LATITUDE  LONGITUDE  \\\n",
        "49997     6501 S LOWE AVE          19693  NaN  41.776074 -87.640625   \n",
        "49998  4836 S INDIANA AVE          18261  NaN  41.806381 -87.621283   \n",
        "49999   200 N KOSTNER AVE           1531  NaN  41.883310 -87.735709   \n",
        "\n",
        "                                     LOCATION  \n",
        "49997   (41.7760739361563,-87.64062455203374)  \n",
        "49998  (41.80638088214982,-87.62128295874425)  \n",
        "49999  (41.88330951242491,-87.73570901056128)  \n",
        "\n",
        "[3 rows x 23 columns]"
       ]
      }
     ],
     "prompt_number": 4
    },
    {
     "cell_type": "code",
     "collapsed": false,
     "input": [
      "df.shape"
     ],
     "language": "python",
     "metadata": {},
     "outputs": [
      {
       "metadata": {},
       "output_type": "pyout",
       "prompt_number": 5,
       "text": [
        "(50000, 23)"
       ]
      }
     ],
     "prompt_number": 5
    },
    {
     "cell_type": "code",
     "collapsed": false,
     "input": [
      "del df['Unnamed: 0']"
     ],
     "language": "python",
     "metadata": {},
     "outputs": [],
     "prompt_number": 6
    },
    {
     "cell_type": "code",
     "collapsed": false,
     "input": [
      "df.columns"
     ],
     "language": "python",
     "metadata": {},
     "outputs": [
      {
       "metadata": {},
       "output_type": "pyout",
       "prompt_number": 7,
       "text": [
        "Index([u'ID', u'VIOLATION LAST MODIFIED DATE', u'VIOLATION DATE', u'VIOLATION CODE', u'VIOLATION STATUS', u'VIOLATION STATUS DATE', u'VIOLATION DESCRIPTION', u'VIOLATION LOCATION', u'VIOLATION INSPECTOR COMMENTS', u'VIOLATION ORDINANCE', u'INSPECTOR ID', u'INSPECTION NUMBER', u'INSPECTION STATUS', u'INSPECTION WAIVED', u'INSPECTION CATEGORY', u'DEPARTMENT BUREAU', u'ADDRESS', u'PROPERTY GROUP', u'SSA', u'LATITUDE', u'LONGITUDE', u'LOCATION'], dtype='object')"
       ]
      }
     ],
     "prompt_number": 7
    },
    {
     "cell_type": "code",
     "collapsed": false,
     "input": [
      "import re\n",
      "\n",
      "def spaces_to_snake(column_name):\n",
      "    '''\n",
      "    converts a string that has spaces into snake_case\n",
      "    '''\n",
      "    \n",
      "    s = re.sub(r'\\s+','_', column_name)\n",
      "    return s.lower()\n",
      "\n",
      "df.columns = [spaces_to_snake(col) for col in df.columns]"
     ],
     "language": "python",
     "metadata": {},
     "outputs": [],
     "prompt_number": 8
    },
    {
     "cell_type": "code",
     "collapsed": false,
     "input": [
      "df.columns"
     ],
     "language": "python",
     "metadata": {},
     "outputs": [
      {
       "metadata": {},
       "output_type": "pyout",
       "prompt_number": 9,
       "text": [
        "Index([u'id', u'violation_last_modified_date', u'violation_date', u'violation_code', u'violation_status', u'violation_status_date', u'violation_description', u'violation_location', u'violation_inspector_comments', u'violation_ordinance', u'inspector_id', u'inspection_number', u'inspection_status', u'inspection_waived', u'inspection_category', u'department_bureau', u'address', u'property_group', u'ssa', u'latitude', u'longitude', u'location'], dtype='object')"
       ]
      }
     ],
     "prompt_number": 9
    },
    {
     "cell_type": "code",
     "collapsed": false,
     "input": [
      "df.violation_date.head()"
     ],
     "language": "python",
     "metadata": {},
     "outputs": [
      {
       "metadata": {},
       "output_type": "pyout",
       "prompt_number": 10,
       "text": [
        "0    05/21/2015\n",
        "1    05/21/2015\n",
        "2    05/21/2015\n",
        "3    05/21/2015\n",
        "4    05/21/2015\n",
        "Name: violation_date, dtype: object"
       ]
      }
     ],
     "prompt_number": 10
    },
    {
     "cell_type": "code",
     "collapsed": false,
     "input": [
      "df.dtypes"
     ],
     "language": "python",
     "metadata": {},
     "outputs": [
      {
       "metadata": {},
       "output_type": "pyout",
       "prompt_number": 11,
       "text": [
        "id                                int64\n",
        "violation_last_modified_date     object\n",
        "violation_date                   object\n",
        "violation_code                   object\n",
        "violation_status                 object\n",
        "violation_status_date            object\n",
        "violation_description            object\n",
        "violation_location               object\n",
        "violation_inspector_comments     object\n",
        "violation_ordinance              object\n",
        "inspector_id                     object\n",
        "inspection_number                 int64\n",
        "inspection_status                object\n",
        "inspection_waived                object\n",
        "inspection_category              object\n",
        "department_bureau                object\n",
        "address                          object\n",
        "property_group                    int64\n",
        "ssa                              object\n",
        "latitude                        float64\n",
        "longitude                       float64\n",
        "location                         object\n",
        "dtype: object"
       ]
      }
     ],
     "prompt_number": 11
    },
    {
     "cell_type": "code",
     "collapsed": false,
     "input": [
      "df.violation_date = pd.to_datetime(df.violation_date)\n",
      "df.violation_status_date = pd.to_datetime(df.violation_status_date)\n",
      "df.violation_last_modified_date = pd.to_datetime(df.violation_last_modified_date)\n"
     ],
     "language": "python",
     "metadata": {},
     "outputs": [],
     "prompt_number": 48
    },
    {
     "cell_type": "code",
     "collapsed": false,
     "input": [
      "df.violation_date.head()"
     ],
     "language": "python",
     "metadata": {},
     "outputs": [
      {
       "metadata": {},
       "output_type": "pyout",
       "prompt_number": 13,
       "text": [
        "0   2015-05-21\n",
        "1   2015-05-21\n",
        "2   2015-05-21\n",
        "3   2015-05-21\n",
        "4   2015-05-21\n",
        "Name: violation_date, dtype: datetime64[ns]"
       ]
      }
     ],
     "prompt_number": 13
    },
    {
     "cell_type": "code",
     "collapsed": false,
     "input": [
      "df.describe()"
     ],
     "language": "python",
     "metadata": {},
     "outputs": [
      {
       "html": [
        "<div style=\"max-height:1000px;max-width:1500px;overflow:auto;\">\n",
        "<table border=\"1\" class=\"dataframe\">\n",
        "  <thead>\n",
        "    <tr style=\"text-align: right;\">\n",
        "      <th></th>\n",
        "      <th>id</th>\n",
        "      <th>inspection_number</th>\n",
        "      <th>property_group</th>\n",
        "      <th>latitude</th>\n",
        "      <th>longitude</th>\n",
        "    </tr>\n",
        "  </thead>\n",
        "  <tbody>\n",
        "    <tr>\n",
        "      <th>count</th>\n",
        "      <td>   50000.000000</td>\n",
        "      <td>    50000.000000</td>\n",
        "      <td>  50000.000000</td>\n",
        "      <td> 49952.000000</td>\n",
        "      <td> 49952.000000</td>\n",
        "    </tr>\n",
        "    <tr>\n",
        "      <th>mean</th>\n",
        "      <td> 3300031.329640</td>\n",
        "      <td>  6195288.986320</td>\n",
        "      <td> 197729.741420</td>\n",
        "      <td>    41.845539</td>\n",
        "      <td>   -87.673442</td>\n",
        "    </tr>\n",
        "    <tr>\n",
        "      <th>std</th>\n",
        "      <td> 1088123.083684</td>\n",
        "      <td>  4296079.998463</td>\n",
        "      <td> 183132.260836</td>\n",
        "      <td>     0.087437</td>\n",
        "      <td>     0.057008</td>\n",
        "    </tr>\n",
        "    <tr>\n",
        "      <th>min</th>\n",
        "      <td>  742158.000000</td>\n",
        "      <td>   375113.000000</td>\n",
        "      <td>   1001.000000</td>\n",
        "      <td>    41.644712</td>\n",
        "      <td>   -87.914436</td>\n",
        "    </tr>\n",
        "    <tr>\n",
        "      <th>25%</th>\n",
        "      <td> 2400057.500000</td>\n",
        "      <td>  2021217.500000</td>\n",
        "      <td>  20600.750000</td>\n",
        "      <td>    41.771440</td>\n",
        "      <td>   -87.714271</td>\n",
        "    </tr>\n",
        "    <tr>\n",
        "      <th>50%</th>\n",
        "      <td> 3421152.000000</td>\n",
        "      <td>  2813561.000000</td>\n",
        "      <td> 142605.000000</td>\n",
        "      <td>    41.854001</td>\n",
        "      <td>   -87.670709</td>\n",
        "    </tr>\n",
        "    <tr>\n",
        "      <th>75%</th>\n",
        "      <td> 4223617.750000</td>\n",
        "      <td> 10630848.750000</td>\n",
        "      <td> 363929.250000</td>\n",
        "      <td>    41.912843</td>\n",
        "      <td>   -87.634551</td>\n",
        "    </tr>\n",
        "    <tr>\n",
        "      <th>max</th>\n",
        "      <td> 5064815.000000</td>\n",
        "      <td> 11597625.000000</td>\n",
        "      <td> 663759.000000</td>\n",
        "      <td>    42.022645</td>\n",
        "      <td>   -87.525898</td>\n",
        "    </tr>\n",
        "  </tbody>\n",
        "</table>\n",
        "</div>"
       ],
       "metadata": {},
       "output_type": "pyout",
       "prompt_number": 14,
       "text": [
        "                   id  inspection_number  property_group      latitude  \\\n",
        "count    50000.000000       50000.000000    50000.000000  49952.000000   \n",
        "mean   3300031.329640     6195288.986320   197729.741420     41.845539   \n",
        "std    1088123.083684     4296079.998463   183132.260836      0.087437   \n",
        "min     742158.000000      375113.000000     1001.000000     41.644712   \n",
        "25%    2400057.500000     2021217.500000    20600.750000     41.771440   \n",
        "50%    3421152.000000     2813561.000000   142605.000000     41.854001   \n",
        "75%    4223617.750000    10630848.750000   363929.250000     41.912843   \n",
        "max    5064815.000000    11597625.000000   663759.000000     42.022645   \n",
        "\n",
        "          longitude  \n",
        "count  49952.000000  \n",
        "mean     -87.673442  \n",
        "std        0.057008  \n",
        "min      -87.914436  \n",
        "25%      -87.714271  \n",
        "50%      -87.670709  \n",
        "75%      -87.634551  \n",
        "max      -87.525898  "
       ]
      }
     ],
     "prompt_number": 14
    },
    {
     "cell_type": "code",
     "collapsed": false,
     "input": [
      "pd.value_counts(df.inspection_status)"
     ],
     "language": "python",
     "metadata": {},
     "outputs": [
      {
       "metadata": {},
       "output_type": "pyout",
       "prompt_number": 15,
       "text": [
        "FAILED    38371\n",
        "PASSED     6426\n",
        "CLOSED     5199\n",
        "HOLD          4\n",
        "dtype: int64"
       ]
      }
     ],
     "prompt_number": 15
    },
    {
     "cell_type": "code",
     "collapsed": false,
     "input": [
      "pd.value_counts(df.violation_inspector_comments.isnull())"
     ],
     "language": "python",
     "metadata": {},
     "outputs": [
      {
       "metadata": {},
       "output_type": "pyout",
       "prompt_number": 16,
       "text": [
        "False    44705\n",
        "True      5295\n",
        "dtype: int64"
       ]
      }
     ],
     "prompt_number": 16
    },
    {
     "cell_type": "code",
     "collapsed": false,
     "input": [
      "df[df.violation_inspector_comments=='No Comment'].head()"
     ],
     "language": "python",
     "metadata": {},
     "outputs": [
      {
       "html": [
        "<div style=\"max-height:1000px;max-width:1500px;overflow:auto;\">\n",
        "<table border=\"1\" class=\"dataframe\">\n",
        "  <thead>\n",
        "    <tr style=\"text-align: right;\">\n",
        "      <th></th>\n",
        "      <th>id</th>\n",
        "      <th>violation_last_modified_date</th>\n",
        "      <th>violation_date</th>\n",
        "      <th>violation_code</th>\n",
        "      <th>violation_status</th>\n",
        "      <th>violation_status_date</th>\n",
        "      <th>violation_description</th>\n",
        "      <th>violation_location</th>\n",
        "      <th>violation_inspector_comments</th>\n",
        "      <th>violation_ordinance</th>\n",
        "      <th>...</th>\n",
        "      <th>inspection_status</th>\n",
        "      <th>inspection_waived</th>\n",
        "      <th>inspection_category</th>\n",
        "      <th>department_bureau</th>\n",
        "      <th>address</th>\n",
        "      <th>property_group</th>\n",
        "      <th>ssa</th>\n",
        "      <th>latitude</th>\n",
        "      <th>longitude</th>\n",
        "      <th>location</th>\n",
        "    </tr>\n",
        "  </thead>\n",
        "  <tbody>\n",
        "  </tbody>\n",
        "</table>\n",
        "<p>0 rows \u00d7 22 columns</p>\n",
        "</div>"
       ],
       "metadata": {},
       "output_type": "pyout",
       "prompt_number": 17,
       "text": [
        "Empty DataFrame\n",
        "Columns: [id, violation_last_modified_date, violation_date, violation_code, violation_status, violation_status_date, violation_description, violation_location, violation_inspector_comments, violation_ordinance, inspector_id, inspection_number, inspection_status, inspection_waived, inspection_category, department_bureau, address, property_group, ssa, latitude, longitude, location]\n",
        "Index: []\n",
        "\n",
        "[0 rows x 22 columns]"
       ]
      }
     ],
     "prompt_number": 17
    },
    {
     "cell_type": "code",
     "collapsed": false,
     "input": [
      "df.violation_status[3:10]"
     ],
     "language": "python",
     "metadata": {},
     "outputs": [
      {
       "metadata": {},
       "output_type": "pyout",
       "prompt_number": 18,
       "text": [
        "3    OPEN\n",
        "4    OPEN\n",
        "5    OPEN\n",
        "6    OPEN\n",
        "7    OPEN\n",
        "8    OPEN\n",
        "9    OPEN\n",
        "Name: violation_status, dtype: object"
       ]
      }
     ],
     "prompt_number": 18
    },
    {
     "cell_type": "code",
     "collapsed": false,
     "input": [
      "df.iloc[3:10,1:4]"
     ],
     "language": "python",
     "metadata": {},
     "outputs": [
      {
       "html": [
        "<div style=\"max-height:1000px;max-width:1500px;overflow:auto;\">\n",
        "<table border=\"1\" class=\"dataframe\">\n",
        "  <thead>\n",
        "    <tr style=\"text-align: right;\">\n",
        "      <th></th>\n",
        "      <th>violation_last_modified_date</th>\n",
        "      <th>violation_date</th>\n",
        "      <th>violation_code</th>\n",
        "    </tr>\n",
        "  </thead>\n",
        "  <tbody>\n",
        "    <tr>\n",
        "      <th>3</th>\n",
        "      <td> 05/21/2015</td>\n",
        "      <td>2015-05-21</td>\n",
        "      <td> CN196029</td>\n",
        "    </tr>\n",
        "    <tr>\n",
        "      <th>4</th>\n",
        "      <td> 05/21/2015</td>\n",
        "      <td>2015-05-21</td>\n",
        "      <td> CN104015</td>\n",
        "    </tr>\n",
        "    <tr>\n",
        "      <th>5</th>\n",
        "      <td> 05/21/2015</td>\n",
        "      <td>2015-05-21</td>\n",
        "      <td> CN190019</td>\n",
        "    </tr>\n",
        "    <tr>\n",
        "      <th>6</th>\n",
        "      <td> 05/21/2015</td>\n",
        "      <td>2015-05-21</td>\n",
        "      <td> CN015062</td>\n",
        "    </tr>\n",
        "    <tr>\n",
        "      <th>7</th>\n",
        "      <td> 05/21/2015</td>\n",
        "      <td>2015-05-21</td>\n",
        "      <td> CN065034</td>\n",
        "    </tr>\n",
        "    <tr>\n",
        "      <th>8</th>\n",
        "      <td> 05/21/2015</td>\n",
        "      <td>2015-05-21</td>\n",
        "      <td> CN196029</td>\n",
        "    </tr>\n",
        "    <tr>\n",
        "      <th>9</th>\n",
        "      <td> 05/21/2015</td>\n",
        "      <td>2015-05-21</td>\n",
        "      <td> CN190019</td>\n",
        "    </tr>\n",
        "  </tbody>\n",
        "</table>\n",
        "</div>"
       ],
       "metadata": {},
       "output_type": "pyout",
       "prompt_number": 19,
       "text": [
        "  violation_last_modified_date violation_date violation_code\n",
        "3                   05/21/2015     2015-05-21       CN196029\n",
        "4                   05/21/2015     2015-05-21       CN104015\n",
        "5                   05/21/2015     2015-05-21       CN190019\n",
        "6                   05/21/2015     2015-05-21       CN015062\n",
        "7                   05/21/2015     2015-05-21       CN065034\n",
        "8                   05/21/2015     2015-05-21       CN196029\n",
        "9                   05/21/2015     2015-05-21       CN190019"
       ]
      }
     ],
     "prompt_number": 19
    },
    {
     "cell_type": "code",
     "collapsed": false,
     "input": [
      "df['log_lat'] = df.latitude.apply(np.log)\n",
      "df[['latitude','log_lat']].head()"
     ],
     "language": "python",
     "metadata": {},
     "outputs": [
      {
       "html": [
        "<div style=\"max-height:1000px;max-width:1500px;overflow:auto;\">\n",
        "<table border=\"1\" class=\"dataframe\">\n",
        "  <thead>\n",
        "    <tr style=\"text-align: right;\">\n",
        "      <th></th>\n",
        "      <th>latitude</th>\n",
        "      <th>log_lat</th>\n",
        "    </tr>\n",
        "  </thead>\n",
        "  <tbody>\n",
        "    <tr>\n",
        "      <th>0</th>\n",
        "      <td> 41.733089</td>\n",
        "      <td> 3.731294</td>\n",
        "    </tr>\n",
        "    <tr>\n",
        "      <th>1</th>\n",
        "      <td> 41.777088</td>\n",
        "      <td> 3.732348</td>\n",
        "    </tr>\n",
        "    <tr>\n",
        "      <th>2</th>\n",
        "      <td> 41.937995</td>\n",
        "      <td> 3.736192</td>\n",
        "    </tr>\n",
        "    <tr>\n",
        "      <th>3</th>\n",
        "      <td> 41.937995</td>\n",
        "      <td> 3.736192</td>\n",
        "    </tr>\n",
        "    <tr>\n",
        "      <th>4</th>\n",
        "      <td> 41.791470</td>\n",
        "      <td> 3.732692</td>\n",
        "    </tr>\n",
        "  </tbody>\n",
        "</table>\n",
        "</div>"
       ],
       "metadata": {},
       "output_type": "pyout",
       "prompt_number": 20,
       "text": [
        "    latitude   log_lat\n",
        "0  41.733089  3.731294\n",
        "1  41.777088  3.732348\n",
        "2  41.937995  3.736192\n",
        "3  41.937995  3.736192\n",
        "4  41.791470  3.732692"
       ]
      }
     ],
     "prompt_number": 20
    },
    {
     "cell_type": "code",
     "collapsed": false,
     "input": [
      "df['new_lat'] = df.latitude.apply(lambda x: x + np.random.rand())"
     ],
     "language": "python",
     "metadata": {},
     "outputs": [],
     "prompt_number": 24
    },
    {
     "cell_type": "code",
     "collapsed": false,
     "input": [
      "newdf = df.fillna(df.mean())"
     ],
     "language": "python",
     "metadata": {},
     "outputs": [],
     "prompt_number": 37
    },
    {
     "cell_type": "code",
     "collapsed": false,
     "input": [
      "pd.value_counts(df.violation_inspector_comments.isnull())"
     ],
     "language": "python",
     "metadata": {},
     "outputs": [
      {
       "metadata": {},
       "output_type": "pyout",
       "prompt_number": 26,
       "text": [
        "False    44705\n",
        "True      5295\n",
        "dtype: int64"
       ]
      }
     ],
     "prompt_number": 26
    },
    {
     "cell_type": "code",
     "collapsed": false,
     "input": [
      "df.interpolate().count()"
     ],
     "language": "python",
     "metadata": {},
     "outputs": [
      {
       "metadata": {},
       "output_type": "pyout",
       "prompt_number": 27,
       "text": [
        "id                              50000\n",
        "violation_last_modified_date    50000\n",
        "violation_date                  50000\n",
        "violation_code                  50000\n",
        "violation_status                50000\n",
        "violation_status_date           13512\n",
        "violation_description           49624\n",
        "violation_location              17516\n",
        "violation_inspector_comments    44705\n",
        "violation_ordinance             48462\n",
        "inspector_id                    50000\n",
        "inspection_number               50000\n",
        "inspection_status               50000\n",
        "inspection_waived               50000\n",
        "inspection_category             50000\n",
        "department_bureau               50000\n",
        "address                         50000\n",
        "property_group                  50000\n",
        "ssa                              9361\n",
        "latitude                        50000\n",
        "longitude                       50000\n",
        "location                        49952\n",
        "log_lat                         50000\n",
        "new_lat                         50000\n",
        "dtype: int64"
       ]
      }
     ],
     "prompt_number": 27
    },
    {
     "cell_type": "code",
     "collapsed": false,
     "input": [],
     "language": "python",
     "metadata": {},
     "outputs": [
      {
       "ename": "IndexError",
       "evalue": "too many indices for array",
       "output_type": "pyerr",
       "traceback": [
        "\u001b[0;31m---------------------------------------------------------------------------\u001b[0m\n\u001b[0;31mIndexError\u001b[0m                                Traceback (most recent call last)",
        "\u001b[0;32m<ipython-input-34-59155a9fa2fd>\u001b[0m in \u001b[0;36m<module>\u001b[0;34m()\u001b[0m\n\u001b[1;32m      1\u001b[0m \u001b[0mdf\u001b[0m\u001b[0;34m.\u001b[0m\u001b[0misnull\u001b[0m\u001b[0;34m\u001b[0m\u001b[0m\n\u001b[0;32m----> 2\u001b[0;31m \u001b[0mdf\u001b[0m\u001b[0;34m.\u001b[0m\u001b[0mindex\u001b[0m\u001b[0;34m[\u001b[0m\u001b[0mdf\u001b[0m\u001b[0;34m.\u001b[0m\u001b[0misnull\u001b[0m\u001b[0;34m(\u001b[0m\u001b[0;34m)\u001b[0m\u001b[0;34m]\u001b[0m\u001b[0;34m\u001b[0m\u001b[0m\n\u001b[0m",
        "\u001b[0;32m/Users/mahmud/anaconda/lib/python2.7/site-packages/pandas/core/index.pyc\u001b[0m in \u001b[0;36m__getitem__\u001b[0;34m(self, key)\u001b[0m\n\u001b[1;32m    924\u001b[0m \u001b[0;34m\u001b[0m\u001b[0m\n\u001b[1;32m    925\u001b[0m         \u001b[0mkey\u001b[0m \u001b[0;34m=\u001b[0m \u001b[0m_values_from_object\u001b[0m\u001b[0;34m(\u001b[0m\u001b[0mkey\u001b[0m\u001b[0;34m)\u001b[0m\u001b[0;34m\u001b[0m\u001b[0m\n\u001b[0;32m--> 926\u001b[0;31m         \u001b[0mresult\u001b[0m \u001b[0;34m=\u001b[0m \u001b[0mgetitem\u001b[0m\u001b[0;34m(\u001b[0m\u001b[0mkey\u001b[0m\u001b[0;34m)\u001b[0m\u001b[0;34m\u001b[0m\u001b[0m\n\u001b[0m\u001b[1;32m    927\u001b[0m         \u001b[0;32mif\u001b[0m \u001b[0;32mnot\u001b[0m \u001b[0mnp\u001b[0m\u001b[0;34m.\u001b[0m\u001b[0misscalar\u001b[0m\u001b[0;34m(\u001b[0m\u001b[0mresult\u001b[0m\u001b[0;34m)\u001b[0m\u001b[0;34m:\u001b[0m\u001b[0;34m\u001b[0m\u001b[0m\n\u001b[1;32m    928\u001b[0m             \u001b[0;32mreturn\u001b[0m \u001b[0mpromote\u001b[0m\u001b[0;34m(\u001b[0m\u001b[0mresult\u001b[0m\u001b[0;34m)\u001b[0m\u001b[0;34m\u001b[0m\u001b[0m\n",
        "\u001b[0;31mIndexError\u001b[0m: too many indices for array"
       ]
      }
     ],
     "prompt_number": 34
    },
    {
     "cell_type": "code",
     "collapsed": false,
     "input": [
      "df.isnull().sum()"
     ],
     "language": "python",
     "metadata": {},
     "outputs": [
      {
       "metadata": {},
       "output_type": "pyout",
       "prompt_number": 35,
       "text": [
        "id                                  0\n",
        "violation_last_modified_date        0\n",
        "violation_date                      0\n",
        "violation_code                      0\n",
        "violation_status                    0\n",
        "violation_status_date           36488\n",
        "violation_description             376\n",
        "violation_location              32484\n",
        "violation_inspector_comments     5295\n",
        "violation_ordinance              1538\n",
        "inspector_id                        0\n",
        "inspection_number                   0\n",
        "inspection_status                   0\n",
        "inspection_waived                   0\n",
        "inspection_category                 0\n",
        "department_bureau                   0\n",
        "address                             0\n",
        "property_group                      0\n",
        "ssa                             40639\n",
        "latitude                           48\n",
        "longitude                          48\n",
        "location                           48\n",
        "log_lat                            48\n",
        "new_lat                            48\n",
        "dtype: int64"
       ]
      }
     ],
     "prompt_number": 35
    },
    {
     "cell_type": "code",
     "collapsed": false,
     "input": [
      "df.isnull().sum()/50000"
     ],
     "language": "python",
     "metadata": {},
     "outputs": [
      {
       "metadata": {},
       "output_type": "pyout",
       "prompt_number": 40,
       "text": [
        "id                              0.00000\n",
        "violation_last_modified_date    0.00000\n",
        "violation_date                  0.00000\n",
        "violation_code                  0.00000\n",
        "violation_status                0.00000\n",
        "violation_status_date           0.72976\n",
        "violation_description           0.00752\n",
        "violation_location              0.64968\n",
        "violation_inspector_comments    0.10590\n",
        "violation_ordinance             0.03076\n",
        "inspector_id                    0.00000\n",
        "inspection_number               0.00000\n",
        "inspection_status               0.00000\n",
        "inspection_waived               0.00000\n",
        "inspection_category             0.00000\n",
        "department_bureau               0.00000\n",
        "address                         0.00000\n",
        "property_group                  0.00000\n",
        "ssa                             0.81278\n",
        "latitude                        0.00096\n",
        "longitude                       0.00096\n",
        "location                        0.00096\n",
        "log_lat                         0.00096\n",
        "new_lat                         0.00096\n",
        "dtype: float64"
       ]
      }
     ],
     "prompt_number": 40
    },
    {
     "cell_type": "code",
     "collapsed": false,
     "input": [
      "df.violation_status_date.isnull()"
     ],
     "language": "python",
     "metadata": {},
     "outputs": [
      {
       "metadata": {},
       "output_type": "pyout",
       "prompt_number": 41,
       "text": [
        "0     True\n",
        "1     True\n",
        "2     True\n",
        "3     True\n",
        "4     True\n",
        "5     True\n",
        "6     True\n",
        "7     True\n",
        "8     True\n",
        "9     True\n",
        "10    True\n",
        "11    True\n",
        "12    True\n",
        "13    True\n",
        "14    True\n",
        "...\n",
        "49985    False\n",
        "49986     True\n",
        "49987     True\n",
        "49988     True\n",
        "49989     True\n",
        "49990    False\n",
        "49991    False\n",
        "49992    False\n",
        "49993    False\n",
        "49994    False\n",
        "49995     True\n",
        "49996     True\n",
        "49997    False\n",
        "49998    False\n",
        "49999    False\n",
        "Name: violation_status_date, Length: 50000, dtype: bool"
       ]
      }
     ],
     "prompt_number": 41
    },
    {
     "cell_type": "code",
     "collapsed": false,
     "input": [
      "df.datemean = (df.violation_last_modified_date) + ((df.violation_date - df.violation_last_modified_date)/2)"
     ],
     "language": "python",
     "metadata": {},
     "outputs": [],
     "prompt_number": 56
    },
    {
     "cell_type": "code",
     "collapsed": false,
     "input": [],
     "language": "python",
     "metadata": {},
     "outputs": [
      {
       "metadata": {},
       "output_type": "pyout",
       "prompt_number": 53,
       "text": [
        "Series([], dtype: float64)"
       ]
      }
     ],
     "prompt_number": 53
    },
    {
     "cell_type": "code",
     "collapsed": false,
     "input": [],
     "language": "python",
     "metadata": {},
     "outputs": [
      {
       "metadata": {},
       "output_type": "pyout",
       "prompt_number": 54,
       "text": [
        "0    2015-05-21\n",
        "1    2015-05-21\n",
        "2    2015-05-21\n",
        "3    2015-05-21\n",
        "4    2015-05-21\n",
        "5    2015-05-21\n",
        "6    2015-05-21\n",
        "7    2015-05-21\n",
        "8    2015-05-21\n",
        "9    2015-05-21\n",
        "10   2015-05-21\n",
        "11   2015-05-21\n",
        "12   2015-05-20\n",
        "13   2015-05-20\n",
        "14   2015-05-20\n",
        "...\n",
        "49985   2006-07-08 12:00:00\n",
        "49986   2006-02-14 00:00:00\n",
        "49987   2006-04-07 00:00:00\n",
        "49988   2006-04-26 00:00:00\n",
        "49989   2006-03-07 00:00:00\n",
        "49990   2007-08-24 12:00:00\n",
        "49991   2007-12-07 12:00:00\n",
        "49992   2006-11-28 00:00:00\n",
        "49993   2007-12-07 12:00:00\n",
        "49994   2008-11-29 00:00:00\n",
        "49995   2006-03-25 00:00:00\n",
        "49996   2006-04-09 12:00:00\n",
        "49997   2007-05-24 12:00:00\n",
        "49998   2007-05-10 12:00:00\n",
        "49999   2006-07-08 00:00:00\n",
        "Length: 50000, dtype: datetime64[ns]"
       ]
      }
     ],
     "prompt_number": 54
    },
    {
     "cell_type": "code",
     "collapsed": false,
     "input": [],
     "language": "python",
     "metadata": {},
     "outputs": []
    }
   ],
   "metadata": {}
  }
 ]
}